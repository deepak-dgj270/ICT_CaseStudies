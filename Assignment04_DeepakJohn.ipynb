{
  "nbformat": 4,
  "nbformat_minor": 0,
  "metadata": {
    "colab": {
      "provenance": []
    },
    "kernelspec": {
      "name": "python3",
      "display_name": "Python 3"
    },
    "language_info": {
      "name": "python"
    }
  },
  "cells": [
    {
      "cell_type": "code",
      "execution_count": 1,
      "metadata": {
        "id": "4kQBdF2mOwEt"
      },
      "outputs": [],
      "source": [
        "import pandas as pd\n",
        "from sklearn.metrics.pairwise import cosine_similarity\n",
        "\n",
        "# Load the dataset\n",
        "data = pd.read_csv(\"jokes-data.csv\")"
      ]
    },
    {
      "cell_type": "code",
      "source": [
        "# Check for Missing Values\n",
        "missing_values = data.isnull().sum()\n",
        "print(\"Missing Values:\\n\", missing_values)\n",
        "\n",
        "# Drop Unnecessary Columns\n",
        "data.drop(columns=['id'], inplace=True)"
      ],
      "metadata": {
        "colab": {
          "base_uri": "https://localhost:8080/"
        },
        "id": "_YQUYLjbPG-h",
        "outputId": "197c95a0-0927-4c78-8f9b-073fe14b51b5"
      },
      "execution_count": 2,
      "outputs": [
        {
          "output_type": "stream",
          "name": "stdout",
          "text": [
            "Missing Values:\n",
            " id         0\n",
            "user_id    0\n",
            "joke_id    0\n",
            "Rating     0\n",
            "dtype: int64\n"
          ]
        }
      ]
    },
    {
      "cell_type": "code",
      "source": [
        "# Check for Duplicates\n",
        "duplicates = data.duplicated().sum()\n",
        "print(\"Duplicate Rows:\", duplicates)"
      ],
      "metadata": {
        "colab": {
          "base_uri": "https://localhost:8080/"
        },
        "id": "PPLkRoNAPXfW",
        "outputId": "c39c75b5-080b-4d63-d3e4-d0654275c02d"
      },
      "execution_count": 3,
      "outputs": [
        {
          "output_type": "stream",
          "name": "stdout",
          "text": [
            "Duplicate Rows: 0\n"
          ]
        }
      ]
    },
    {
      "cell_type": "code",
      "source": [
        "print(data.head())"
      ],
      "metadata": {
        "colab": {
          "base_uri": "https://localhost:8080/"
        },
        "id": "8gCZQluwPbpW",
        "outputId": "5aa9466d-ae8a-47e5-c1fa-6d4d495f78b4"
      },
      "execution_count": 4,
      "outputs": [
        {
          "output_type": "stream",
          "name": "stdout",
          "text": [
            "   user_id  joke_id  Rating\n",
            "0    31030      110   2.750\n",
            "1    16144      109   5.094\n",
            "2    23098        6  -6.438\n",
            "3    14273       86   4.406\n",
            "4    18419      134   9.375\n"
          ]
        }
      ]
    },
    {
      "cell_type": "code",
      "source": [
        "# Create User-Item Matrix\n",
        "user_item_matrix = data.pivot_table(index='user_id', columns='joke_id', values='Rating')"
      ],
      "metadata": {
        "id": "_IkGZU0vREAg"
      },
      "execution_count": 5,
      "outputs": []
    },
    {
      "cell_type": "code",
      "source": [
        "from sklearn.metrics.pairwise import cosine_similarity"
      ],
      "metadata": {
        "id": "R-3bJ1LKRYCq"
      },
      "execution_count": 6,
      "outputs": []
    },
    {
      "cell_type": "code",
      "source": [
        " #Calculate Similarity\n",
        "user_similarity = cosine_similarity(user_item_matrix.fillna(0))"
      ],
      "metadata": {
        "id": "HdoABR_PRHuT",
        "colab": {
          "base_uri": "https://localhost:8080/",
          "height": 162
        },
        "outputId": "e77ba36c-c62c-4a6e-d277-a187b11e6925"
      },
      "execution_count": 1,
      "outputs": [
        {
          "output_type": "error",
          "ename": "NameError",
          "evalue": "name 'cosine_similarity' is not defined",
          "traceback": [
            "\u001b[0;31m---------------------------------------------------------------------------\u001b[0m",
            "\u001b[0;31mNameError\u001b[0m                                 Traceback (most recent call last)",
            "\u001b[0;32m<ipython-input-1-b4501ea4c2d5>\u001b[0m in \u001b[0;36m<cell line: 2>\u001b[0;34m()\u001b[0m\n\u001b[1;32m      1\u001b[0m \u001b[0;31m#Calculate Similarity\u001b[0m\u001b[0;34m\u001b[0m\u001b[0;34m\u001b[0m\u001b[0m\n\u001b[0;32m----> 2\u001b[0;31m \u001b[0muser_similarity\u001b[0m \u001b[0;34m=\u001b[0m \u001b[0mcosine_similarity\u001b[0m\u001b[0;34m(\u001b[0m\u001b[0muser_item_matrix\u001b[0m\u001b[0;34m.\u001b[0m\u001b[0mfillna\u001b[0m\u001b[0;34m(\u001b[0m\u001b[0;36m0\u001b[0m\u001b[0;34m)\u001b[0m\u001b[0;34m)\u001b[0m\u001b[0;34m\u001b[0m\u001b[0;34m\u001b[0m\u001b[0m\n\u001b[0m",
            "\u001b[0;31mNameError\u001b[0m: name 'cosine_similarity' is not defined"
          ]
        }
      ]
    },
    {
      "cell_type": "code",
      "source": [
        "# Recommendation Generation\n",
        "def recommend_jokes(user_id, user_similarity, user_item_matrix):\n",
        "    similar_users = user_similarity[user_id]\n",
        "    rated_jokes = user_item_matrix.loc[user_id].dropna().index\n",
        "    unrated_jokes = user_item_matrix.columns.difference(rated_jokes)\n",
        "    recommendations = {}\n",
        "    for joke_id in unrated_jokes:\n",
        "        similar_users_ratings = user_item_matrix.loc[user_similarity.argsort()[user_id, ::-1][:10], joke_id].dropna()\n",
        "        if not similar_users_ratings.empty:\n",
        "            weighted_rating = similar_users_ratings.dot(similar_users[:len(similar_users_ratings)])\n",
        "            weighted_sum = similar_users[:len(similar_users_ratings)].sum()\n",
        "            recommendations[joke_id] = weighted_rating / weighted_sum\n",
        "    return sorted(recommendations.items(), key=lambda x: x[1], reverse=True)\n",
        "\n",
        "# Example: Generate recommendations for a user\n",
        "user_id = 110\n",
        "recommendations = recommend_jokes(user_id, user_similarity, user_item_matrix)\n",
        "print(\"Recommended Jokes for User\", user_id)\n",
        "for joke_id, rating in recommendations[:5]:\n",
        "    print(\"Joke ID:\", joke_id, \"- Predicted Rating:\", round(rating, 2))"
      ],
      "metadata": {
        "id": "8cOY89HrQQwc",
        "colab": {
          "base_uri": "https://localhost:8080/",
          "height": 216
        },
        "outputId": "37da4b07-e44e-4f9a-aa6b-5b6ca01ad22b"
      },
      "execution_count": null,
      "outputs": [
        {
          "output_type": "error",
          "ename": "NameError",
          "evalue": "name 'user_similarity' is not defined",
          "traceback": [
            "\u001b[0;31m---------------------------------------------------------------------------\u001b[0m",
            "\u001b[0;31mNameError\u001b[0m                                 Traceback (most recent call last)",
            "\u001b[0;32m<ipython-input-1-4153dadd4694>\u001b[0m in \u001b[0;36m<cell line: 17>\u001b[0;34m()\u001b[0m\n\u001b[1;32m     15\u001b[0m \u001b[0;31m# Example: Generate recommendations for a user\u001b[0m\u001b[0;34m\u001b[0m\u001b[0;34m\u001b[0m\u001b[0m\n\u001b[1;32m     16\u001b[0m \u001b[0muser_id\u001b[0m \u001b[0;34m=\u001b[0m \u001b[0;36m110\u001b[0m\u001b[0;34m\u001b[0m\u001b[0;34m\u001b[0m\u001b[0m\n\u001b[0;32m---> 17\u001b[0;31m \u001b[0mrecommendations\u001b[0m \u001b[0;34m=\u001b[0m \u001b[0mrecommend_jokes\u001b[0m\u001b[0;34m(\u001b[0m\u001b[0muser_id\u001b[0m\u001b[0;34m,\u001b[0m \u001b[0muser_similarity\u001b[0m\u001b[0;34m,\u001b[0m \u001b[0muser_item_matrix\u001b[0m\u001b[0;34m)\u001b[0m\u001b[0;34m\u001b[0m\u001b[0;34m\u001b[0m\u001b[0m\n\u001b[0m\u001b[1;32m     18\u001b[0m \u001b[0mprint\u001b[0m\u001b[0;34m(\u001b[0m\u001b[0;34m\"Recommended Jokes for User\"\u001b[0m\u001b[0;34m,\u001b[0m \u001b[0muser_id\u001b[0m\u001b[0;34m)\u001b[0m\u001b[0;34m\u001b[0m\u001b[0;34m\u001b[0m\u001b[0m\n\u001b[1;32m     19\u001b[0m \u001b[0;32mfor\u001b[0m \u001b[0mjoke_id\u001b[0m\u001b[0;34m,\u001b[0m \u001b[0mrating\u001b[0m \u001b[0;32min\u001b[0m \u001b[0mrecommendations\u001b[0m\u001b[0;34m[\u001b[0m\u001b[0;34m:\u001b[0m\u001b[0;36m5\u001b[0m\u001b[0;34m]\u001b[0m\u001b[0;34m:\u001b[0m\u001b[0;34m\u001b[0m\u001b[0;34m\u001b[0m\u001b[0m\n",
            "\u001b[0;31mNameError\u001b[0m: name 'user_similarity' is not defined"
          ]
        }
      ]
    }
  ]
}
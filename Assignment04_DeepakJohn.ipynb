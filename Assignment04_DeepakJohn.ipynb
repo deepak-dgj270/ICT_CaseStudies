{
  "nbformat": 4,
  "nbformat_minor": 0,
  "metadata": {
    "colab": {
      "provenance": []
    },
    "kernelspec": {
      "name": "python3",
      "display_name": "Python 3"
    },
    "language_info": {
      "name": "python"
    }
  },
  "cells": [
    {
      "cell_type": "code",
      "execution_count": 1,
      "metadata": {
        "id": "4kQBdF2mOwEt"
      },
      "outputs": [],
      "source": [
        "import pandas as pd\n",
        "import numpy as np\n",
        "from sklearn.metrics.pairwise import cosine_similarity\n",
        "\n",
        "# Load the dataset\n",
        "data = pd.read_csv(\"jokes-data.csv\")\n",
        "data = data.head(40000)"
      ]
    },
    {
      "cell_type": "code",
      "source": [
        "# Check for Missing Values\n",
        "missing_values = data.isnull().sum()\n",
        "print(\"Missing Values:\\n\", missing_values)\n",
        "\n",
        "# Drop Unnecessary Columns\n",
        "data.drop(columns=['id'], inplace=True)"
      ],
      "metadata": {
        "colab": {
          "base_uri": "https://localhost:8080/"
        },
        "id": "_YQUYLjbPG-h",
        "outputId": "8539679c-91cd-41ca-9906-8a8ef4439eed"
      },
      "execution_count": 2,
      "outputs": [
        {
          "output_type": "stream",
          "name": "stdout",
          "text": [
            "Missing Values:\n",
            " id         0\n",
            "user_id    0\n",
            "joke_id    0\n",
            "Rating     0\n",
            "dtype: int64\n"
          ]
        }
      ]
    },
    {
      "cell_type": "code",
      "source": [
        "# Check for Duplicates\n",
        "duplicates = data.duplicated().sum()\n",
        "print(\"Duplicate Rows:\", duplicates)"
      ],
      "metadata": {
        "colab": {
          "base_uri": "https://localhost:8080/"
        },
        "id": "PPLkRoNAPXfW",
        "outputId": "c04e8a71-9d8f-43a7-996c-43a4daee9e67"
      },
      "execution_count": 3,
      "outputs": [
        {
          "output_type": "stream",
          "name": "stdout",
          "text": [
            "Duplicate Rows: 0\n"
          ]
        }
      ]
    },
    {
      "cell_type": "code",
      "source": [
        "print(data.head())"
      ],
      "metadata": {
        "colab": {
          "base_uri": "https://localhost:8080/"
        },
        "id": "8gCZQluwPbpW",
        "outputId": "0f2be17a-99f2-4dfc-c867-d62d80207f83"
      },
      "execution_count": 4,
      "outputs": [
        {
          "output_type": "stream",
          "name": "stdout",
          "text": [
            "   user_id  joke_id  Rating\n",
            "0    31030      110   2.750\n",
            "1    16144      109   5.094\n",
            "2    23098        6  -6.438\n",
            "3    14273       86   4.406\n",
            "4    18419      134   9.375\n"
          ]
        }
      ]
    },
    {
      "cell_type": "code",
      "source": [
        "# Create User-Item Matrix\n",
        "user_item_matrix = data.pivot_table(index='user_id', columns='joke_id', values='Rating')"
      ],
      "metadata": {
        "id": "_IkGZU0vREAg"
      },
      "execution_count": 5,
      "outputs": []
    },
    {
      "cell_type": "code",
      "source": [
        "from sklearn.metrics.pairwise import cosine_similarity"
      ],
      "metadata": {
        "id": "R-3bJ1LKRYCq"
      },
      "execution_count": 6,
      "outputs": []
    },
    {
      "cell_type": "code",
      "source": [
        " #Calculate Similarity\n",
        "user_similarity = cosine_similarity(user_item_matrix.fillna(0))"
      ],
      "metadata": {
        "id": "HdoABR_PRHuT"
      },
      "execution_count": 7,
      "outputs": []
    },
    {
      "cell_type": "code",
      "source": [
        "# Recommendation Generation\n",
        "def recommend_jokes(user_id, user_similarity, user_item_matrix):\n",
        "    # Check if the user_id is in the user_item_matrix index\n",
        "    if user_id not in user_item_matrix.index:\n",
        "        raise KeyError(f\"User ID {user_id} not found in the user-item matrix index\")\n",
        "\n",
        "    similar_users = user_similarity[user_id]\n",
        "    rated_jokes = user_item_matrix.loc[user_id].dropna().index\n",
        "    unrated_jokes = user_item_matrix.columns.difference(rated_jokes)\n",
        "    recommendations = {}\n",
        "\n",
        "    for joke_id in unrated_jokes:\n",
        "        # Sort users by similarity and ensure they are in the index\n",
        "        similar_users_sorted_indices = np.argsort(similar_users)[::-1]\n",
        "        similar_users_filtered = [idx for idx in similar_users_sorted_indices if idx in user_item_matrix.index]\n",
        "\n",
        "        if len(similar_users_filtered) == 0:\n",
        "            continue\n",
        "\n",
        "        # Get ratings from the top 10 similar users\n",
        "        similar_users_ratings = user_item_matrix.loc[similar_users_filtered[:10], joke_id].dropna()\n",
        "\n",
        "        if not similar_users_ratings.empty:\n",
        "            # Use the indices of the filtered ratings to get the corresponding similarities\n",
        "            relevant_similar_users = pd.Series(similar_users[similar_users_ratings.index], index=similar_users_ratings.index)\n",
        "            if len(similar_users_ratings) != len(relevant_similar_users):\n",
        "                # Ensure the lengths match for the dot product\n",
        "                raise ValueError(\"Length mismatch between ratings and similarity scores\")\n",
        "\n",
        "            weighted_rating = similar_users_ratings.dot(relevant_similar_users)\n",
        "            weighted_sum = relevant_similar_users.sum()\n",
        "            recommendations[joke_id] = weighted_rating / weighted_sum\n",
        "\n",
        "    return sorted(recommendations.items(), key=lambda x: x[1], reverse=True)\n",
        "\n",
        "# Example: Generate recommendations for a user\n",
        "user_id = 18\n",
        "#print(user_item_matrix)\n",
        "user_similarity = np.random.rand(20, 20)  # Example similarity matrix\n",
        "user_item_matrix = pd.DataFrame(np.random.rand(20, 100))  # Example user-item matrix\n",
        "\n",
        "recommendations = recommend_jokes(user_id, user_similarity, user_item_matrix)\n",
        "#recommendations = recommend_jokes(user_id, user_similarity, user_item_matrix)\n",
        "print(\"Recommended Jokes for User\", user_id)\n",
        "for joke_id, rating in recommendations[:5]:\n",
        "    print(\"Joke ID:\", joke_id, \"- Predicted Rating:\", round(rating, 2))"
      ],
      "metadata": {
        "id": "8cOY89HrQQwc",
        "colab": {
          "base_uri": "https://localhost:8080/"
        },
        "outputId": "4aeaf4fb-9759-49aa-89e0-5bfcf4f492e9"
      },
      "execution_count": 8,
      "outputs": [
        {
          "output_type": "stream",
          "name": "stdout",
          "text": [
            "Recommended Jokes for User 18\n"
          ]
        }
      ]
    }
  ]
}
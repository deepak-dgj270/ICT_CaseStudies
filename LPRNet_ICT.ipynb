{
  "nbformat": 4,
  "nbformat_minor": 0,
  "metadata": {
    "colab": {
      "provenance": [],
      "authorship_tag": "ABX9TyPfSYRlCJv4zjMp5W5IXjw8",
      "include_colab_link": true
    },
    "kernelspec": {
      "name": "python3",
      "display_name": "Python 3"
    },
    "language_info": {
      "name": "python"
    }
  },
  "cells": [
    {
      "cell_type": "markdown",
      "metadata": {
        "id": "view-in-github",
        "colab_type": "text"
      },
      "source": [
        "<a href=\"https://colab.research.google.com/github/deepak-dgj270/ICT_CaseStudies/blob/main/LPRNet_ICT.ipynb\" target=\"_parent\"><img src=\"https://colab.research.google.com/assets/colab-badge.svg\" alt=\"Open In Colab\"/></a>"
      ]
    },
    {
      "cell_type": "code",
      "execution_count": 1,
      "metadata": {
        "colab": {
          "base_uri": "https://localhost:8080/"
        },
        "id": "qL7mAKVUlLAf",
        "outputId": "af331d22-8957-431b-c331-f522810e7ce2"
      },
      "outputs": [
        {
          "output_type": "stream",
          "name": "stdout",
          "text": [
            "Cloning into 'LPRNET'...\n",
            "remote: Enumerating objects: 57, done.\u001b[K\n",
            "remote: Counting objects: 100% (57/57), done.\u001b[K\n",
            "remote: Compressing objects: 100% (40/40), done.\u001b[K\n",
            "remote: Total 57 (delta 27), reused 44 (delta 17), pack-reused 0\u001b[K\n",
            "Receiving objects: 100% (57/57), 200.00 KiB | 9.52 MiB/s, done.\n",
            "Resolving deltas: 100% (27/27), done.\n"
          ]
        }
      ],
      "source": [
        "!git clone https://github.com/mesakarghm/LPRNET"
      ]
    },
    {
      "cell_type": "code",
      "source": [
        "!python /content/LPRNET/train.py"
      ],
      "metadata": {
        "colab": {
          "base_uri": "https://localhost:8080/"
        },
        "id": "AewWa43emEJJ",
        "outputId": "c22a5ea1-f40d-4c67-d405-4091a7a82efb"
      },
      "execution_count": 13,
      "outputs": [
        {
          "output_type": "stream",
          "name": "stdout",
          "text": [
            "2024-07-31 12:17:33.369226: E external/local_xla/xla/stream_executor/cuda/cuda_dnn.cc:9261] Unable to register cuDNN factory: Attempting to register factory for plugin cuDNN when one has already been registered\n",
            "2024-07-31 12:17:33.369304: E external/local_xla/xla/stream_executor/cuda/cuda_fft.cc:607] Unable to register cuFFT factory: Attempting to register factory for plugin cuFFT when one has already been registered\n",
            "2024-07-31 12:17:33.371595: E external/local_xla/xla/stream_executor/cuda/cuda_blas.cc:1515] Unable to register cuBLAS factory: Attempting to register factory for plugin cuBLAS when one has already been registered\n",
            "2024-07-31 12:17:33.384302: I tensorflow/core/platform/cpu_feature_guard.cc:182] This TensorFlow binary is optimized to use available CPU instructions in performance-critical operations.\n",
            "To enable the following instructions: AVX2 FMA, in other operations, rebuild TensorFlow with the appropriate compiler flags.\n",
            "2024-07-31 12:17:34.890105: W tensorflow/compiler/tf2tensorrt/utils/py_utils.cc:38] TF-TRT Warning: Could not find TensorRT\n",
            "Train Len is 1\n",
            "Training ...\n",
            "Start of epoch 0 / 10\n",
            "Train loss 277.8650207519531, time 1.0979738235473633 \n",
            "\n",
            "Start of epoch 1 / 10\n",
            "Train loss 269.8829345703125, time 0.5795083045959473 \n",
            "\n",
            "Start of epoch 2 / 10\n",
            "Train loss 256.5332946777344, time 0.581934928894043 \n",
            "\n",
            "Start of epoch 3 / 10\n",
            "Train loss 238.36866760253906, time 0.5701608657836914 \n",
            "\n",
            "Start of epoch 4 / 10\n",
            "Train loss 227.87779235839844, time 0.5818071365356445 \n",
            "\n",
            "Start of epoch 5 / 10\n",
            "Train loss 214.69134521484375, time 0.5716018676757812 \n",
            "\n",
            "Start of epoch 6 / 10\n",
            "Train loss 205.4466552734375, time 0.5596983432769775 \n",
            "\n",
            "Start of epoch 7 / 10\n",
            "Train loss 197.92340087890625, time 0.5766358375549316 \n",
            "\n",
            "Start of epoch 8 / 10\n",
            "Train loss 188.67938232421875, time 0.5611374378204346 \n",
            "\n",
            "Start of epoch 9 / 10\n",
            "Train loss 180.6494140625, time 0.5571496486663818 \n",
            "\n",
            "WARNING:tensorflow:Compiled the loaded model, but the compiled metrics have yet to be built. `model.compile_metrics` will be empty until you train or evaluate the model.\n",
            "Final Weights saved in saved_models/new_out_model_last.pb\n"
          ]
        }
      ]
    },
    {
      "cell_type": "code",
      "source": [
        "!python /content/LPRNET/predict.py"
      ],
      "metadata": {
        "colab": {
          "base_uri": "https://localhost:8080/"
        },
        "id": "N3chCMaAugCL",
        "outputId": "47b1f225-654f-4770-ab18-28030a1257cf"
      },
      "execution_count": 15,
      "outputs": [
        {
          "output_type": "stream",
          "name": "stdout",
          "text": [
            "2024-07-31 12:19:26.232875: E external/local_xla/xla/stream_executor/cuda/cuda_dnn.cc:9261] Unable to register cuDNN factory: Attempting to register factory for plugin cuDNN when one has already been registered\n",
            "2024-07-31 12:19:26.232949: E external/local_xla/xla/stream_executor/cuda/cuda_fft.cc:607] Unable to register cuFFT factory: Attempting to register factory for plugin cuFFT when one has already been registered\n",
            "2024-07-31 12:19:26.235136: E external/local_xla/xla/stream_executor/cuda/cuda_blas.cc:1515] Unable to register cuBLAS factory: Attempting to register factory for plugin cuBLAS when one has already been registered\n",
            "2024-07-31 12:19:26.248481: I tensorflow/core/platform/cpu_feature_guard.cc:182] This TensorFlow binary is optimized to use available CPU instructions in performance-critical operations.\n",
            "To enable the following instructions: AVX2 FMA, in other operations, rebuild TensorFlow with the appropriate compiler flags.\n",
            "2024-07-31 12:19:28.253877: W tensorflow/compiler/tf2tensorrt/utils/py_utils.cc:38] TF-TRT Warning: Could not find TensorRT\n",
            "Starting program...\n",
            "WARNING:tensorflow:No training configuration found in save file, so the model was *not* compiled. Compile it manually.\n",
            "Loaded Weights successfully\n",
            "Actual Label \t Predicted Label \n",
            "1/1 [==============================] - 1s 546ms/step\n",
            "KA01MP2936 \t KAK9\n",
            "1/1 [==============================] - 0s 32ms/step\n",
            "KA01MP2936 \t KAK9\n",
            "1/1 [==============================] - 0s 30ms/step\n",
            "KA01ML6902 \t K9\n",
            "1/1 [==============================] - 0s 28ms/step\n",
            "KA53MD7540 \t K3KA9\n",
            "1/1 [==============================] - 0s 29ms/step\n",
            "KA01ML5359 \t K9\n",
            "1/1 [==============================] - 0s 28ms/step\n",
            "KA53Z0023 \t KI9\n",
            "1/1 [==============================] - 0s 32ms/step\n",
            "KA01MR2693 \t K9\n",
            "total time taken : 1.2220125198364258\n"
          ]
        }
      ]
    }
  ]
}